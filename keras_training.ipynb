{
 "cells": [
  {
   "cell_type": "code",
   "execution_count": 1,
   "metadata": {},
   "outputs": [],
   "source": [
    "%reload_ext autoreload\n",
    "%matplotlib inline\n",
    "%autoreload 2"
   ]
  },
  {
   "cell_type": "code",
   "execution_count": 1,
   "metadata": {},
   "outputs": [
    {
     "name": "stderr",
     "output_type": "stream",
     "text": [
      "/home/carlo/.virtualenvs/tf_base/lib/python3.6/site-packages/h5py/__init__.py:36: FutureWarning: Conversion of the second argument of issubdtype from `float` to `np.floating` is deprecated. In future, it will be treated as `np.float64 == np.dtype(float).type`.\n",
      "  from ._conv import register_converters as _register_converters\n",
      "Using TensorFlow backend.\n"
     ]
    }
   ],
   "source": [
    "from kryptoflow.analysis.dataset import get_data, ForecastTransformer, TimeEmbedder\n",
    "import pandas\n",
    "import numpy\n",
    "from sklearn.model_selection import train_test_split\n",
    "from sklearn.pipeline import Pipeline\n",
    "from sklearn.preprocessing import MinMaxScaler\n",
    "from kryptoflow.analysis.model import KerasModel\n",
    "\n",
    "\n",
    "local_df = get_data('gdax', remote=False, keep_keys=['ts', 'price', 'volume_24h', 'spread', 'side'])\n",
    "remote_df = get_data('gdax', remote=True, keep_keys=['ts', 'price', 'volume_24h', 'spread', 'side'])\n",
    "\n",
    "pipe = Pipeline([\n",
    "    ('tr', ForecastTransformer(prediction_steps=2)),\n",
    "    ('scaler', MinMaxScaler()),\n",
    "    ('time', TimeEmbedder(inital_dims=len(local_df.columns)))\n",
    "])\n",
    "\n",
    "x,y = pipe.fit_transform(local_df)\n",
    "x_train, x_test, y_train, y_test = train_test_split(x, y)"
   ]
  },
  {
   "cell_type": "code",
   "execution_count": 6,
   "metadata": {},
   "outputs": [
    {
     "data": {
      "text/plain": [
       "(8, 6)"
      ]
     },
     "execution_count": 6,
     "metadata": {},
     "output_type": "execute_result"
    }
   ],
   "source": [
    "x_test[-1].shape"
   ]
  },
  {
   "cell_type": "code",
   "execution_count": 2,
   "metadata": {},
   "outputs": [
    {
     "name": "stdout",
     "output_type": "stream",
     "text": [
      "WARNING:tensorflow:Variable *= will be deprecated. Use variable.assign_mul if you want assignment to the variable value or 'x = x * y' if you want a new python Tensor object.\n",
      "Train on 21783 samples, validate on 7262 samples\n",
      "Epoch 1/2\n",
      " - 6s - loss: 0.0253 - val_loss: 9.3239e-05\n",
      "Epoch 2/2\n",
      " - 6s - loss: 7.5239e-05 - val_loss: 7.6216e-05\n"
     ]
    }
   ],
   "source": [
    "model = KerasModel(dims=x_train.shape[1:])\n",
    "model.fit(x_train, y_train, x_test, y_test, epochs=2)"
   ]
  },
  {
   "cell_type": "code",
   "execution_count": 3,
   "metadata": {},
   "outputs": [
    {
     "name": "stdout",
     "output_type": "stream",
     "text": [
      "[0, 1, 2]\n",
      "Saved Keras model to disk\n",
      "INFO:tensorflow:No assets to save.\n",
      "INFO:tensorflow:No assets to write.\n",
      "INFO:tensorflow:SavedModel written to: b'stored_models/3/tf/saved_model.pb'\n"
     ]
    }
   ],
   "source": [
    "model.store_model('lstm_basic')"
   ]
  },
  {
   "cell_type": "code",
   "execution_count": 31,
   "metadata": {},
   "outputs": [
    {
     "name": "stdout",
     "output_type": "stream",
     "text": [
      "Train on 21783 samples, validate on 7262 samples\n",
      "Epoch 1/15\n",
      " - 7s - loss: 0.0244 - val_loss: 7.3183e-05\n",
      "Epoch 2/15\n",
      " - 6s - loss: 5.6390e-05 - val_loss: 5.3520e-05\n",
      "Epoch 3/15\n",
      " - 6s - loss: 4.6414e-05 - val_loss: 4.5635e-05\n",
      "Epoch 4/15\n",
      " - 6s - loss: 4.0065e-05 - val_loss: 4.1407e-05\n",
      "Epoch 5/15\n",
      " - 6s - loss: 3.6681e-05 - val_loss: 3.8457e-05\n",
      "Epoch 6/15\n",
      " - 6s - loss: 3.3879e-05 - val_loss: 3.4268e-05\n",
      "Epoch 7/15\n",
      " - 6s - loss: 3.1810e-05 - val_loss: 3.3035e-05\n",
      "Epoch 8/15\n",
      " - 6s - loss: 3.0162e-05 - val_loss: 3.1396e-05\n",
      "Epoch 9/15\n",
      " - 6s - loss: 2.8482e-05 - val_loss: 2.9723e-05\n",
      "Epoch 10/15\n",
      " - 6s - loss: 2.7548e-05 - val_loss: 2.9111e-05\n",
      "Epoch 11/15\n",
      " - 6s - loss: 2.6399e-05 - val_loss: 2.8248e-05\n",
      "Epoch 12/15\n",
      " - 6s - loss: 2.5841e-05 - val_loss: 2.6921e-05\n",
      "Epoch 13/15\n",
      " - 6s - loss: 2.4769e-05 - val_loss: 2.6233e-05\n",
      "Epoch 14/15\n",
      " - 6s - loss: 2.4623e-05 - val_loss: 2.6510e-05\n",
      "Epoch 15/15\n",
      " - 6s - loss: 2.4197e-05 - val_loss: 2.4881e-05\n"
     ]
    }
   ],
   "source": [
    "model = KerasModel(dims=x_train.shape[1:])\n",
    "model.fit(x_train, y_train, x_test, y_test)"
   ]
  }
 ],
 "metadata": {
  "kernelspec": {
   "display_name": "Python 3",
   "language": "python",
   "name": "python3"
  },
  "language_info": {
   "codemirror_mode": {
    "name": "ipython",
    "version": 3
   },
   "file_extension": ".py",
   "mimetype": "text/x-python",
   "name": "python",
   "nbconvert_exporter": "python",
   "pygments_lexer": "ipython3",
   "version": "3.6.3"
  }
 },
 "nbformat": 4,
 "nbformat_minor": 2
}
